{
 "cells": [
  {
   "cell_type": "code",
   "execution_count": 1,
   "id": "9e2d1f22",
   "metadata": {},
   "outputs": [],
   "source": [
    "import os \n",
    "import function.process_freq as func"
   ]
  },
  {
   "cell_type": "code",
   "execution_count": null,
   "id": "de23cb27",
   "metadata": {},
   "outputs": [
    {
     "name": "stdout",
     "output_type": "stream",
     "text": [
      "[INFO] Loaded: s1234_block_1_raw.csv (204589 rows)\n",
      "[INFO] All trial markers present.\n",
      "[DONE] Processed data saved to: process_data\\s1234\\s1234_block_1_process.csv\n",
      "[INFO] Loaded: s1234_block_2_raw.csv (206443 rows)\n",
      "[INFO] All trial markers present.\n",
      "[DONE] Processed data saved to: process_data\\s1234\\s1234_block_2_process.csv\n",
      "[INFO] Loaded: s1234_block_3_raw.csv (207450 rows)\n",
      "[INFO] All trial markers present.\n",
      "[DONE] Processed data saved to: process_data\\s1234\\s1234_block_3_process.csv\n"
     ]
    }
   ],
   "source": [
    "os.listdir()\n",
    "a = os.path.join('raw_data', 's1234')\n",
    "num = len(os.listdir(a))\n",
    "sub = 1234\n",
    "for i in range(1, num+1):\n",
    "    func.process_ldr_with_markers(subject=sub, block_id=i)"
   ]
  },
  {
   "cell_type": "code",
   "execution_count": null,
   "id": "31e1b82a",
   "metadata": {},
   "outputs": [],
   "source": []
  }
 ],
 "metadata": {
  "kernelspec": {
   "display_name": "Python 3",
   "language": "python",
   "name": "python3"
  },
  "language_info": {
   "codemirror_mode": {
    "name": "ipython",
    "version": 3
   },
   "file_extension": ".py",
   "mimetype": "text/x-python",
   "name": "python",
   "nbconvert_exporter": "python",
   "pygments_lexer": "ipython3",
   "version": "3.13.2"
  }
 },
 "nbformat": 4,
 "nbformat_minor": 5
}
