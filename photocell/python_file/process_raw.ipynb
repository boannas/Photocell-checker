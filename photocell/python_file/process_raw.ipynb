{
 "cells": [
  {
   "cell_type": "markdown",
   "id": "3b81900a",
   "metadata": {},
   "source": [
    "### Aligns timestamps between **LDR signals** and **LSL markers**\n",
    "\n",
    "Outputs aligned data to the `process_data` folder"
   ]
  },
  {
   "cell_type": "code",
   "execution_count": 1,
   "id": "9e2d1f22",
   "metadata": {},
   "outputs": [],
   "source": [
    "# Import library\n",
    "import os \n",
    "import functions.process_freq as func"
   ]
  },
  {
   "cell_type": "code",
   "execution_count": 5,
   "id": "16dd2558",
   "metadata": {},
   "outputs": [
    {
     "name": "stdout",
     "output_type": "stream",
     "text": [
      "[INFO] Loaded: s30000_block_4_raw.csv (196354 rows)\n",
      "[INFO] All trial markers present.\n",
      "[DONE] Processed data saved to: process_data\\s30000\\s30000_block_4_process.csv\n",
      "[INFO] Loaded: s30000_block_5_raw.csv (195732 rows)\n",
      "[INFO] All trial markers present.\n",
      "[DONE] Processed data saved to: process_data\\s30000\\s30000_block_5_process.csv\n",
      "[INFO] Loaded: s30000_block_6_raw.csv (195982 rows)\n",
      "[INFO] All trial markers present.\n",
      "[DONE] Processed data saved to: process_data\\s30000\\s30000_block_6_process.csv\n",
      "[INFO] Loaded: s30000_block_7_raw.csv (196285 rows)\n",
      "[INFO] All trial markers present.\n",
      "[DONE] Processed data saved to: process_data\\s30000\\s30000_block_7_process.csv\n",
      "[INFO] Loaded: s30000_block_8_raw.csv (194259 rows)\n",
      "[INFO] All trial markers present.\n",
      "[DONE] Processed data saved to: process_data\\s30000\\s30000_block_8_process.csv\n"
     ]
    }
   ],
   "source": [
    "# Configuration\n",
    "raw_data_path = 'raw_data'\n",
    "subject_ID = 30000\n",
    "\n",
    "subject = f's{subject_ID}'\n",
    "subject_path = os.path.join(raw_data_path, subject)\n",
    "\n",
    "\n",
    "# Process all .csv file in subject folder\n",
    "try:\n",
    "    for file_name in os.listdir(subject_path):\n",
    "        if not file_name.endswith('.csv'):\n",
    "                    continue  \n",
    "        try:\n",
    "            # File name: 'sxx_block_xx_raw.csv'\n",
    "            name_parts = file_name.replace('.csv', '').split('_')\n",
    "            subject = int(name_parts[0][1:])  # remove 's' and convert to int\n",
    "            block_id = name_parts[2]  # block number\n",
    "            func.process_ldr_with_markers(subject=subject, block_id=block_id)\n",
    "        except Exception as e:\n",
    "                    print(f\"[ERROR] Failed to process {file_name}: {e}\")\n",
    "except FileNotFoundError:\n",
    "    print(f\"Subject {subject_ID} not found\")  "
   ]
  },
  {
   "cell_type": "code",
   "execution_count": null,
   "id": "3b4955ae",
   "metadata": {},
   "outputs": [],
   "source": []
  }
 ],
 "metadata": {
  "kernelspec": {
   "display_name": "venv",
   "language": "python",
   "name": "python3"
  },
  "language_info": {
   "codemirror_mode": {
    "name": "ipython",
    "version": 3
   },
   "file_extension": ".py",
   "mimetype": "text/x-python",
   "name": "python",
   "nbconvert_exporter": "python",
   "pygments_lexer": "ipython3",
   "version": "3.13.2"
  }
 },
 "nbformat": 4,
 "nbformat_minor": 5
}
