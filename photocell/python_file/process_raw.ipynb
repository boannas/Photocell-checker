{
 "cells": [
  {
   "cell_type": "markdown",
   "id": "3b81900a",
   "metadata": {},
   "source": [
    "### Aligns timestamps between **LDR signals** and **LSL markers**\n",
    "\n",
    "Outputs aligned data to the `process_data` folder"
   ]
  },
  {
   "cell_type": "code",
   "execution_count": 1,
   "id": "9e2d1f22",
   "metadata": {},
   "outputs": [],
   "source": [
    "# Import library\n",
    "import os \n",
    "import functions.process_freq as func"
   ]
  },
  {
   "cell_type": "code",
   "execution_count": 17,
   "id": "16dd2558",
   "metadata": {},
   "outputs": [
    {
     "name": "stdout",
     "output_type": "stream",
     "text": [
      "[INFO] Loaded: s1234_block_1_raw.csv (204589 rows)\n",
      "[INFO] All trial markers present.\n",
      "[DONE] Processed data saved to: process_data\\s1234\\s1234_block_1_process.csv\n",
      "[INFO] Loaded: s1234_block_2_raw.csv (206443 rows)\n",
      "[INFO] All trial markers present.\n",
      "[DONE] Processed data saved to: process_data\\s1234\\s1234_block_2_process.csv\n",
      "[INFO] Loaded: s1234_block_3_raw.csv (207450 rows)\n",
      "[INFO] All trial markers present.\n",
      "[DONE] Processed data saved to: process_data\\s1234\\s1234_block_3_process.csv\n"
     ]
    }
   ],
   "source": [
    "# Configuration\n",
    "raw_data_path = 'raw_data'\n",
    "subject_ID = 1234\n",
    "\n",
    "subject = f's{subject_ID}'\n",
    "subject_path = os.path.join(raw_data_path, subject)\n",
    "\n",
    "\n",
    "# Process all .csv file in subject folder\n",
    "try:\n",
    "    for file_name in os.listdir(subject_path):\n",
    "        if not file_name.endswith('.csv'):\n",
    "                    continue  \n",
    "        try:\n",
    "            # File name: 'sxx_block_xx_raw.csv'\n",
    "            name_parts = file_name.replace('.csv', '').split('_')\n",
    "            subject = int(name_parts[0][1:])  # remove 's' and convert to int\n",
    "            block_id = name_parts[2]  # block number\n",
    "            func.process_ldr_with_markers(subject=subject, block_id=block_id)\n",
    "        except Exception as e:\n",
    "                    print(f\"[ERROR] Failed to process {file_name}: {e}\")\n",
    "except FileNotFoundError:\n",
    "    print(f\"Subject {subject_ID} not found\")  "
   ]
  }
 ],
 "metadata": {
  "kernelspec": {
   "display_name": "venv",
   "language": "python",
   "name": "python3"
  },
  "language_info": {
   "codemirror_mode": {
    "name": "ipython",
    "version": 3
   },
   "file_extension": ".py",
   "mimetype": "text/x-python",
   "name": "python",
   "nbconvert_exporter": "python",
   "pygments_lexer": "ipython3",
   "version": "3.13.2"
  }
 },
 "nbformat": 4,
 "nbformat_minor": 5
}
