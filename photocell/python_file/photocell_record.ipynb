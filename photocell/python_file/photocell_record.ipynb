{
 "cells": [
  {
   "cell_type": "code",
   "execution_count": 1,
   "id": "cd8e9c34",
   "metadata": {},
   "outputs": [],
   "source": [
    "# Import function for photocell\n",
    "import function.photocell as pc"
   ]
  },
  {
   "cell_type": "code",
   "execution_count": 2,
   "id": "cbc7b9f1",
   "metadata": {},
   "outputs": [],
   "source": [
    "# Initialize Serial port\n",
    "port = 'COM5'\n",
    "baudrate = 115200\n",
    "\n",
    "# Subject ID\n",
    "subject = 11111"
   ]
  },
  {
   "cell_type": "code",
   "execution_count": null,
   "id": "4fc22ef9",
   "metadata": {},
   "outputs": [
    {
     "name": "stdout",
     "output_type": "stream",
     "text": [
      "\n",
      "===== Starting block_1 =====\n",
      "[INFO] Record Data from Subject: 11111\n",
      "[Serial] Connected to COM5 at 115200 baud.\n",
      "[LSL] Looking for marker stream...\n",
      "[LSL] Connected to LSL. Listening for markers...\n",
      "[WARN] Bad format: b'2SH\\xf8'\n"
     ]
    }
   ],
   "source": [
    "# Record multiple blocks\n",
    "num_block = 3   # Number of block records\n",
    "pc.run_multiple_blocks(subject,n_blocks=num_block, baudrate=baudrate)\n",
    "\n",
    "# Record 1 specific block \n",
    "# pc.run_ldr_recording_raw(subject, num_block=1)"
   ]
  },
  {
   "cell_type": "code",
   "execution_count": null,
   "id": "43fb679b",
   "metadata": {},
   "outputs": [],
   "source": []
  }
 ],
 "metadata": {
  "kernelspec": {
   "display_name": "venv",
   "language": "python",
   "name": "python3"
  },
  "language_info": {
   "codemirror_mode": {
    "name": "ipython",
    "version": 3
   },
   "file_extension": ".py",
   "mimetype": "text/x-python",
   "name": "python",
   "nbconvert_exporter": "python",
   "pygments_lexer": "ipython3",
   "version": "3.13.2"
  }
 },
 "nbformat": 4,
 "nbformat_minor": 5
}
